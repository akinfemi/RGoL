{
 "cells": [
  {
   "cell_type": "code",
   "execution_count": 8,
   "metadata": {
    "collapsed": true
   },
   "outputs": [],
   "source": [
    "import pandas as pd\n",
    "import numpy as np\n",
    "data = pd.read_csv(\"resources/train.csv\")\n",
    "\n",
    "import matplotlib.pyplot as plt\n",
    "%matplotlib inline"
   ]
  },
  {
   "cell_type": "code",
   "execution_count": 110,
   "metadata": {
    "collapsed": true
   },
   "outputs": [],
   "source": [
    "def sigmoid(z):\n",
    "    return (1.0/(1.0+np.exp(-z)))\n",
    "\n",
    "def sigmoid_grad(z):\n",
    "    return (sigmoid(z)*(1-sigmoid(z)))"
   ]
  },
  {
   "cell_type": "code",
   "execution_count": 113,
   "metadata": {
    "collapsed": false
   },
   "outputs": [],
   "source": [
    "input_layer_size = 400 #20x20 grid\n",
    "hidden_layer_size = 25\n",
    "epsilon = 0.12\n",
    "df = data.set_index(\"id\")\n",
    "delta_1 = df[df.delta == 1] #one step values only\n",
    "delta_1 = delta_1.as_matrix(columns=None) #dataframe to matrix\n",
    "#detla_1 = np.asmatrix(delta_1)\n",
    "#num_labels = delta_1.shape[0] #number of rows in the matrix"
   ]
  },
  {
   "cell_type": "code",
   "execution_count": 114,
   "metadata": {
    "collapsed": false
   },
   "outputs": [],
   "source": [
    "s1 = delta_1[0,:400]\n",
    "e1 = delta_1[0,400:800]\n",
    "s1 = np.asmatrix(s1)\n",
    "e1 = np.asmatrix(e1)\n",
    "s1 = np.reshape(s1, (20,20))\n",
    "e1 = np.reshape(e1, (20,20))"
   ]
  },
  {
   "cell_type": "code",
   "execution_count": 62,
   "metadata": {
    "collapsed": false
   },
   "outputs": [
    {
     "data": {
      "text/plain": [
       "<matplotlib.image.AxesImage at 0x7f661fe68410>"
      ]
     },
     "execution_count": 62,
     "metadata": {},
     "output_type": "execute_result"
    },
    {
     "data": {
      "image/png": "[encoded data removed]",
      "text/plain": [
       "<matplotlib.figure.Figure at 0x7f660a17c690>"
      ]
     },
     "metadata": {},
     "output_type": "display_data"
    }
   ],
   "source": [
    "#plot\n",
    "#plt.subplot(211)\n",
    "plt.imshow(s1, cmap='Greys')"
   ]
  },
  {
   "cell_type": "code",
   "execution_count": 63,
   "metadata": {
    "collapsed": false
   },
   "outputs": [
    {
     "data": {
      "text/plain": [
       "<matplotlib.image.AxesImage at 0x7f66478f1750>"
      ]
     },
     "execution_count": 63,
     "metadata": {},
     "output_type": "execute_result"
    },
    {
     "data": {
      "image/png": "[encoded data removed]",
      "text/plain": [
       "<matplotlib.figure.Figure at 0x7f661c145fd0>"
      ]
     },
     "metadata": {},
     "output_type": "display_data"
    }
   ],
   "source": [
    "#plt.subplot(212)\n",
    "plt.imshow(e1, cmap='Greys')"
   ]
  },
  {
   "cell_type": "code",
   "execution_count": 311,
   "metadata": {
    "collapsed": false
   },
   "outputs": [
    {
     "name": "stdout",
     "output_type": "stream",
     "text": [
      "(9880, 401)\n"
     ]
    }
   ],
   "source": [
    "#split data into X,y and d (start, end and delta)\n",
    "X = delta_1[:,1:401]\n",
    "y = delta_1[:,401:801]\n",
    "d = delta_1[:,0]\n",
    "\n",
    "#add bias node values\n",
    "dim = np.shape(X);\n",
    "bias = np.ones((dim[0],1));\n",
    "X = np.c_[bias, X] #vector and array concat\n",
    "print(np.shape(X))"
   ]
  },
  {
   "cell_type": "code",
   "execution_count": 296,
   "metadata": {
    "collapsed": false
   },
   "outputs": [
    {
     "name": "stdout",
     "output_type": "stream",
     "text": [
      "(400, 26)\n",
      "(1, 20425)\n",
      "(400, 26)\n"
     ]
    }
   ],
   "source": [
    "#initialize the weights (theta)\n",
    "theta1 = np.random.rand(hidden_layer_size, input_layer_size)\n",
    "theta2 = np.random.rand(dim[1], hidden_layer_size)\n",
    "bias_1 = np.ones((hidden_layer_size,1)); #25 x 1\n",
    "#print(np.shape(bias_1))\n",
    "#theta1\n",
    "theta1 = theta1 * 2 * epsilon - epsilon #25x400\n",
    "#theta1 = np.c_[bias, theta1]\n",
    "#theta1 = theta1[None,:]\n",
    "#print(np.shape(theta1))\n",
    "\n",
    "#theta2\n",
    "bias_2 = np.ones((dim[1],1)) #400 x 1\n",
    "#print(\"bias2\")\n",
    "#print(np.shape(bias)) \n",
    "theta2 = theta2 * 2 * epsilon - epsilon\n",
    "#print(np.shape(theta2))\n",
    "#theta2 = np.c_[bias, theta2]\n",
    "\n",
    "theta1 = np.c_[bias_1, theta1]\n",
    "theta2 = np.c_[bias_2, theta2]\n",
    "temp_theta1 = theta1.flatten()\n",
    "temp_theta1 = temp_theta1[None,:]\n",
    "\n",
    "temp_theta2 = theta2.flatten()\n",
    "temp_theta2 = temp_theta2[None,:]\n",
    "print(np.shape(theta2))\n",
    "theta = np.c_[temp_theta1, temp_theta2]\n",
    "print(np.shape(theta))\n",
    "theta1 = np.reshape(theta[:,0:10025], (25, 401))\n",
    "theta2 = np.reshape(theta[:,10025:20425], (400,26))\n",
    "print(np.shape(theta2))"
   ]
  },
  {
   "cell_type": "code",
   "execution_count": 299,
   "metadata": {
    "collapsed": false
   },
   "outputs": [],
   "source": [
    "#cost function\n",
    "def compute_cost(X, theta):\n",
    "    cost = 0\n",
    "    theta1 = np.reshape(theta[:,0:10025], (25, 401))\n",
    "    theta2 = np.reshape(theta[:,10025:20425], (400,26))\n",
    "    \n",
    "    cap_d_1 = np.zeros((np.shape(theta1)[0],np.shape(theta1)[1]))\n",
    "    cap_d_2 = np.zeros((np.shape(theta2)[0],np.shape(theta2)[1]))\n",
    "\n",
    "    Theta1_grad = np.zeros((np.shape(theta1)[0],np.shape(theta1)[1]))\n",
    "    Theta2_grad = np.zeros((np.shape(theta2)[0],np.shape(theta2)[1]))\n",
    "\n",
    "    for i in range(dim[0]):\n",
    "        a_1 = X[i,:]\n",
    "        a_1 = a_1[None,:]\n",
    "        z_2 = np.dot(a_1, np.transpose(theta1))\n",
    "        a_2 = sigmoid(z_2)\n",
    "        a_2 = np.c_[1, a_2]\n",
    "        z_3 = np.dot(a_2, np.transpose(theta2))\n",
    "        a_3 = sigmoid(z_3)\n",
    "        h_x = a_3\n",
    "        y_i = y[i][None,:]\n",
    "        cost = cost + np.sum(-y_i * np.log(h_x) - (1-y_i) * np.log(1 - h_x))\n",
    "        #back propagation\n",
    "        d_3 = a_3 - y_i\n",
    "        d_2 = np.dot(d_3, theta2) * sigmoid_grad(np.c_[1, z_2])\n",
    "        #cap delta\n",
    "        cap_d_1 = cap_d_1 + np.dot(np.transpose(d_2[:,1:]), a_1)\n",
    "        cap_d_2 = cap_d_2 + np.dot(np.transpose(d_3), a_2)\n",
    "\n",
    "    #lam since lambda is a reserved word\n",
    "    lam = 1\n",
    "    m = dim[0]\n",
    "    reg = (lam / (2 * m)) * (np.sum(np.sum(theta1[:,1:input_layer_size+1]**2))) + np.sum(np.sum(theta2[:,1:hidden_layer_size+1]**2)); \n",
    "\n",
    "    cost = (1/m) * cost + reg;\n",
    "\n",
    "    Theta1_grad = cap_d_1 / m;\n",
    "    Theta2_grad = cap_d_2 / m;\n",
    "\n",
    "    #regularization\n",
    "    Theta1_grad[:, 1:input_layer_size + 1] = Theta1_grad[:, 1:input_layer_size + 1] + (lam/m) * theta1[:, 1:input_layer_size + 1];\n",
    "    Theta2_grad[:, 1:hidden_layer_size + 1] = Theta2_grad[:, 1:hidden_layer_size + 1] + (lam/m) * theta2[:, 1:hidden_layer_size + 1];\n",
    "    \n",
    "    temp_theta1 = Theta1_grad.flatten()\n",
    "    temp_theta2 = Theta2_grad.flatten()\n",
    "    temp_theta1 = temp_theta1[None,:]\n",
    "    temp_theta2 = temp_theta2[None,:]\n",
    "    grad = np.c_[temp_theta1, temp_theta2]\n",
    "    return (cost, grad)"
   ]
  },
  {
   "cell_type": "code",
   "execution_count": 313,
   "metadata": {
    "collapsed": false
   },
   "outputs": [
    {
     "name": "stdout",
     "output_type": "stream",
     "text": [
      "290.485491358\n",
      "290.648309639\n",
      "290.810080317\n",
      "290.970820729\n",
      "291.130547969\n",
      "291.289278891\n",
      "291.447030109\n",
      "291.603817996\n",
      "291.759658688\n",
      "291.914568083\n"
     ]
    }
   ],
   "source": [
    "#gradient descent\n",
    "numIters = 10\n",
    "alpha = 0.01\n",
    "for i in range(0, numIters):\n",
    "    (cost, grad) = compute_cost(X, theta);\n",
    "    theta = theta - alpha * grad\n",
    "    print(cost)"
   ]
  },
  {
   "cell_type": "code",
   "execution_count": 301,
   "metadata": {
    "collapsed": false
   },
   "outputs": [
    {
     "data": {
      "text/plain": [
       "array([[ 0.8999928 ,  0.08996153,  0.09830222, ..., -0.0442268 ,\n",
       "        -0.13796562, -0.17456665]])"
      ]
     },
     "execution_count": 301,
     "metadata": {},
     "output_type": "execute_result"
    }
   ],
   "source": [
    "theta"
   ]
  },
  {
   "cell_type": "code",
   "execution_count": null,
   "metadata": {
    "collapsed": true
   },
   "outputs": [],
   "source": []
  }
 ],
 "metadata": {
  "kernelspec": {
   "display_name": "Python 2",
   "language": "python",
   "name": "python2"
  },
  "language_info": {
   "codemirror_mode": {
    "name": "ipython",
    "version": 2
   },
   "file_extension": ".py",
   "mimetype": "text/x-python",
   "name": "python",
   "nbconvert_exporter": "python",
   "pygments_lexer": "ipython2",
   "version": "2.7.13"
  }
 },
 "nbformat": 4,
 "nbformat_minor": 2
}
